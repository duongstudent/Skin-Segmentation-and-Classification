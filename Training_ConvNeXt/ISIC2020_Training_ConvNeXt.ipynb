{
 "cells": [
  {
   "cell_type": "code",
   "execution_count": null,
   "metadata": {},
   "outputs": [],
   "source": [
    "!nvidia-smi"
   ]
  },
  {
   "cell_type": "code",
   "execution_count": null,
   "metadata": {},
   "outputs": [],
   "source": [
    "import os\n",
    "import cv2\n",
    "import torch\n",
    "import torch.nn as nn\n",
    "import torch.nn.functional as F\n",
    "import matplotlib.pyplot as plt\n",
    "\n",
    "from tqdm import tqdm\n",
    "from utils.SkinImageData import SkinImage\n",
    "from utils.ConvNeXT_V1 import SkinClassifier\n",
    "from utils.utils_main import UnNormalize, TrainTransform, TestTransform\n",
    "from sklearn.metrics import accuracy_score, precision_score, recall_score, confusion_matrix"
   ]
  },
  {
   "cell_type": "markdown",
   "metadata": {},
   "source": [
    "## I. Training"
   ]
  },
  {
   "cell_type": "markdown",
   "metadata": {},
   "source": [
    "### 1. Define"
   ]
  },
  {
   "cell_type": "code",
   "execution_count": null,
   "metadata": {},
   "outputs": [],
   "source": [
    "path_folder_dataset_train = 'Data/ISIC2020/train'\n",
    "label_names=['benign_skin','malignant_skin']\n",
    "label_encoder = [0,1]"
   ]
  },
  {
   "cell_type": "code",
   "execution_count": null,
   "metadata": {},
   "outputs": [],
   "source": [
    "trainsize = 384\n",
    "mean=(0.485, 0.456, 0.406)\n",
    "std=(0.229, 0.224, 0.225)"
   ]
  },
  {
   "cell_type": "code",
   "execution_count": null,
   "metadata": {},
   "outputs": [],
   "source": [
    "n_class = 2\n",
    "n_epochs = 20\n",
    "batch_size = 10\n",
    "epochs_save_model = 1\n",
    "path_save_model = 'model'\n",
    "\n",
    "n_workers = os.cpu_count()\n",
    "device = torch.device(\"cuda:0\" if torch.cuda.is_available() else \"cpu\")"
   ]
  },
  {
   "cell_type": "code",
   "execution_count": null,
   "metadata": {},
   "outputs": [],
   "source": [
    "model = SkinClassifier('convnext_small_in22ft1k',n_class)\n",
    "model.to(device)\n",
    "\n",
    "weights = torch.FloatTensor([1, 10]).to(device)\n",
    "criterion = nn.CrossEntropyLoss(weight=weights)\n",
    "optimizer = torch.optim.AdamW(model.parameters(), lr=0.0001, weight_decay=0.0001)\n",
    "print(\"num_workers =\", n_workers, \", device =\", device)"
   ]
  },
  {
   "cell_type": "code",
   "execution_count": null,
   "metadata": {},
   "outputs": [],
   "source": [
    "train_transform = TrainTransform(trainsize=trainsize, mean=mean, std=std)\n",
    "unorm = UnNormalize(mean=mean, std=std)"
   ]
  },
  {
   "cell_type": "markdown",
   "metadata": {},
   "source": [
    "### 2. Load data train"
   ]
  },
  {
   "cell_type": "code",
   "execution_count": null,
   "metadata": {},
   "outputs": [],
   "source": [
    "dataset_train = SkinImage(path_folder_dataset_train, label_names, label_encoder, transform=train_transform)\n",
    "print('train size: ', len(dataset_train), '\\npath: ', path_folder_dataset_train)"
   ]
  },
  {
   "cell_type": "code",
   "execution_count": null,
   "metadata": {},
   "outputs": [],
   "source": [
    "trainloader = torch.utils.data.DataLoader(dataset_train, batch_size=batch_size,\n",
    "                                          shuffle=True, num_workers=n_workers)"
   ]
  },
  {
   "cell_type": "markdown",
   "metadata": {},
   "source": [
    "### 3. Training"
   ]
  },
  {
   "cell_type": "code",
   "execution_count": null,
   "metadata": {},
   "outputs": [],
   "source": [
    "for epoch in range(n_epochs):\n",
    "    print('Epoch: ', epoch + 1,'/', n_epochs,' is training...')\n",
    "    model.train()\n",
    "    true_labels = []\n",
    "    predicted_labels = []\n",
    "    for batch_id, (x, y) in enumerate(tqdm(trainloader), start=1):\n",
    "        x = x.to(device)\n",
    "        y = y.to(device).float()  # Convert y to float\n",
    "        optimizer.zero_grad()\n",
    "        y_pred = model(x).float()  # Convert y_pred to float\n",
    "        loss = criterion(y_pred, y.long())\n",
    "        loss.backward()\n",
    "        optimizer.step()\n",
    "        true_labels.extend(y.cpu().numpy())\n",
    "        probs = F.softmax(y_pred, dim=-1)\n",
    "        predictions = torch.argmax(probs, dim=-1)\n",
    "        predicted_labels.extend(predictions.cpu().numpy())\n",
    "\n",
    "    # Calculate accuracy\n",
    "    accuracy = accuracy_score(true_labels, predicted_labels)\n",
    "\n",
    "    # Calculate precision\n",
    "    precision = precision_score(true_labels, predicted_labels)\n",
    "\n",
    "    # Calculate recall\n",
    "    recall = recall_score(true_labels, predicted_labels)\n",
    "\n",
    "    # F1 score\n",
    "    f1 = 2 * (precision * recall) / (precision + recall)\n",
    "\n",
    "\n",
    "    print(f'Epoch: {epoch + 1} - acc: {accuracy:.4f} - precision: {precision:.4f} - recall: {recall:.4f} - f1: {f1:.4f}')\n",
    "    # save model\n",
    "    if (epoch + 1) % epochs_save_model == 0:\n",
    "        torch.save(model.state_dict(), path_save_model + '/model_epoch_' + str(epoch + 1) + '.pth')"
   ]
  },
  {
   "cell_type": "markdown",
   "metadata": {},
   "source": [
    "## II. evaluate "
   ]
  },
  {
   "cell_type": "markdown",
   "metadata": {},
   "source": [
    "### 1. Define"
   ]
  },
  {
   "cell_type": "code",
   "execution_count": null,
   "metadata": {},
   "outputs": [],
   "source": [
    "from sklearn.metrics import confusion_matrix\n",
    "from sklearn.metrics import classification_report\n",
    "from sklearn.metrics import ConfusionMatrixDisplay"
   ]
  },
  {
   "cell_type": "code",
   "execution_count": null,
   "metadata": {},
   "outputs": [],
   "source": [
    "\n",
    "def predict_datatset(model, dataset, batch_size):\n",
    "    model.eval()\n",
    "    true_labels = []\n",
    "    predicted_labels = []\n",
    "    with torch.no_grad():\n",
    "        for batch_id, (x, y) in enumerate(tqdm(dataset), start=1):\n",
    "            x = x.to(device)\n",
    "            y = y.to(device).float()  # Convert y to float\n",
    "            y_pred = model(x).float()  # Convert y_pred to float\n",
    "            true_labels.extend(y.cpu().numpy())\n",
    "            probs = F.softmax(y_pred, dim=-1)\n",
    "            predictions = torch.argmax(probs, dim=-1)\n",
    "            predicted_labels.extend(predictions.cpu().numpy())\n",
    "    return true_labels, predicted_labels"
   ]
  },
  {
   "cell_type": "code",
   "execution_count": null,
   "metadata": {},
   "outputs": [],
   "source": [
    "n_class = 2\n",
    "batch_size_test = 100\n",
    "path_folder_dataset_test = 'Data/ISIC2020/test'\n",
    "path_model = 'model/ep1/model_epoch_10.pth'\n",
    "\n",
    "n_workers = os.cpu_count()\n",
    "device = torch.device(\"cuda:0\" if torch.cuda.is_available() else \"cpu\")\n",
    "\n",
    "new_model = SkinClassifier('convnext_small_in22ft1k',n_class)\n",
    "new_model.to(device)\n",
    "new_model.load_state_dict(torch.load(path_model))"
   ]
  },
  {
   "cell_type": "markdown",
   "metadata": {},
   "source": [
    "### 2. load data test"
   ]
  },
  {
   "cell_type": "code",
   "execution_count": null,
   "metadata": {},
   "outputs": [],
   "source": [
    "test_transform = TestTransform(trainsize=trainsize, mean=mean, std=std)\n",
    "dataset_test = SkinImage(path_folder_dataset_test, label_names, label_encoder, transform=test_transform)\n",
    "print('test size: ', len(dataset_test), '\\npath: ', path_folder_dataset_test)"
   ]
  },
  {
   "cell_type": "code",
   "execution_count": null,
   "metadata": {},
   "outputs": [],
   "source": [
    "\n",
    "testloader = torch.utils.data.DataLoader(dataset_test, batch_size=batch_size_test,\n",
    "                                          shuffle=False, num_workers=n_workers)"
   ]
  },
  {
   "cell_type": "markdown",
   "metadata": {},
   "source": [
    "### 3. Results"
   ]
  },
  {
   "cell_type": "code",
   "execution_count": null,
   "metadata": {},
   "outputs": [],
   "source": [
    "test_true_labels, test_predicted_labels = predict_datatset(new_model, testloader, batch_size_test)"
   ]
  },
  {
   "cell_type": "code",
   "execution_count": null,
   "metadata": {},
   "outputs": [],
   "source": [
    "# Calculate accuracy, f1, precision, recall\n",
    "test_accuracy = accuracy_score(test_true_labels, test_predicted_labels)\n",
    "test_precision = precision_score(test_true_labels, test_predicted_labels, average='macro')\n",
    "test_recall = recall_score(test_true_labels, test_predicted_labels, average='macro')\n",
    "test_f1 = 2 * (test_precision * test_recall) / (test_precision + test_recall)\n",
    "print(f'Test - acc: {test_accuracy:.4f} - precision: {test_precision:.4f} - recall: {test_recall:.4f} - f1: {test_f1:.4f}')"
   ]
  },
  {
   "cell_type": "code",
   "execution_count": null,
   "metadata": {},
   "outputs": [],
   "source": [
    "print(classification_report(test_true_labels, test_predicted_labels))\n",
    "cm = confusion_matrix(test_true_labels, test_predicted_labels)\n",
    "disp = ConfusionMatrixDisplay(confusion_matrix=cm, display_labels=[ 'Not Melanoma','Melanoma'])\n",
    "disp.plot()\n",
    "plt.show()"
   ]
  },
  {
   "cell_type": "code",
   "execution_count": null,
   "metadata": {},
   "outputs": [],
   "source": []
  }
 ],
 "metadata": {
  "kernelspec": {
   "display_name": "Python 3.8.18 ('kltn2')",
   "language": "python",
   "name": "python3"
  },
  "language_info": {
   "codemirror_mode": {
    "name": "ipython",
    "version": 3
   },
   "file_extension": ".py",
   "mimetype": "text/x-python",
   "name": "python",
   "nbconvert_exporter": "python",
   "pygments_lexer": "ipython3",
   "version": "3.8.18"
  },
  "orig_nbformat": 4,
  "vscode": {
   "interpreter": {
    "hash": "90437877f7b6ccbf11e380609e7c178b179a9c38de434b7cc621f194482c51a0"
   }
  }
 },
 "nbformat": 4,
 "nbformat_minor": 2
}
